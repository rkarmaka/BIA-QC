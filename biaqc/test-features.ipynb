{
 "cells": [
  {
   "cell_type": "code",
   "execution_count": 2,
   "metadata": {},
   "outputs": [],
   "source": [
    "import numpy as np\n",
    "import pandas as pd\n",
    "import matplotlib.pyplot as plt\n",
    "import seaborn as sns\n",
    "import cv2 as cv\n",
    "from scipy.signal import convolve2d"
   ]
  },
  {
   "cell_type": "code",
   "execution_count": 7,
   "metadata": {},
   "outputs": [],
   "source": [
    "PATH = \"../../sample_images\""
   ]
  },
  {
   "cell_type": "code",
   "execution_count": 8,
   "metadata": {},
   "outputs": [
    {
     "data": {
      "text/html": [
       "<div>\n",
       "<style scoped>\n",
       "    .dataframe tbody tr th:only-of-type {\n",
       "        vertical-align: middle;\n",
       "    }\n",
       "\n",
       "    .dataframe tbody tr th {\n",
       "        vertical-align: top;\n",
       "    }\n",
       "\n",
       "    .dataframe thead th {\n",
       "        text-align: right;\n",
       "    }\n",
       "</style>\n",
       "<table border=\"1\" class=\"dataframe\">\n",
       "  <thead>\n",
       "    <tr style=\"text-align: right;\">\n",
       "      <th></th>\n",
       "      <th>file_path</th>\n",
       "      <th>image_name</th>\n",
       "      <th>extension</th>\n",
       "      <th>T</th>\n",
       "      <th>C</th>\n",
       "      <th>Z</th>\n",
       "      <th>laplacian</th>\n",
       "      <th>tenengrad</th>\n",
       "      <th>brenners_gradient</th>\n",
       "      <th>fourier_magnitude</th>\n",
       "      <th>...</th>\n",
       "      <th>lbp_bin_0</th>\n",
       "      <th>lbp_bin_1</th>\n",
       "      <th>lbp_bin_2</th>\n",
       "      <th>lbp_bin_3</th>\n",
       "      <th>lbp_bin_4</th>\n",
       "      <th>lbp_bin_5</th>\n",
       "      <th>lbp_bin_6</th>\n",
       "      <th>lbp_bin_7</th>\n",
       "      <th>lbp_bin_8</th>\n",
       "      <th>lbp_bin_9</th>\n",
       "    </tr>\n",
       "  </thead>\n",
       "  <tbody>\n",
       "    <tr>\n",
       "      <th>0</th>\n",
       "      <td>/Users/ranit/IAC/Project/ViTO/sample_images/nd...</td>\n",
       "      <td>100X MAM9X ZStack 2a copy</td>\n",
       "      <td>nd2</td>\n",
       "      <td>0</td>\n",
       "      <td>0</td>\n",
       "      <td>0</td>\n",
       "      <td>0.000000</td>\n",
       "      <td>0.000000</td>\n",
       "      <td>0</td>\n",
       "      <td>0.000000</td>\n",
       "      <td>...</td>\n",
       "      <td>0.000000</td>\n",
       "      <td>0.000000</td>\n",
       "      <td>0.000000</td>\n",
       "      <td>0.000000</td>\n",
       "      <td>0.000000</td>\n",
       "      <td>0.000000</td>\n",
       "      <td>0.000000</td>\n",
       "      <td>0.000000</td>\n",
       "      <td>1.000000</td>\n",
       "      <td>0.000000</td>\n",
       "    </tr>\n",
       "    <tr>\n",
       "      <th>1</th>\n",
       "      <td>/Users/ranit/IAC/Project/ViTO/sample_images/nd...</td>\n",
       "      <td>100X MAM9X ZStack 2a copy</td>\n",
       "      <td>nd2</td>\n",
       "      <td>0</td>\n",
       "      <td>0</td>\n",
       "      <td>1</td>\n",
       "      <td>0.000000</td>\n",
       "      <td>0.000000</td>\n",
       "      <td>0</td>\n",
       "      <td>0.000000</td>\n",
       "      <td>...</td>\n",
       "      <td>0.000000</td>\n",
       "      <td>0.000000</td>\n",
       "      <td>0.000000</td>\n",
       "      <td>0.000000</td>\n",
       "      <td>0.000000</td>\n",
       "      <td>0.000000</td>\n",
       "      <td>0.000000</td>\n",
       "      <td>0.000000</td>\n",
       "      <td>1.000000</td>\n",
       "      <td>0.000000</td>\n",
       "    </tr>\n",
       "    <tr>\n",
       "      <th>2</th>\n",
       "      <td>/Users/ranit/IAC/Project/ViTO/sample_images/nd...</td>\n",
       "      <td>100X MAM9X ZStack 2a copy</td>\n",
       "      <td>nd2</td>\n",
       "      <td>0</td>\n",
       "      <td>0</td>\n",
       "      <td>2</td>\n",
       "      <td>0.000000</td>\n",
       "      <td>0.000000</td>\n",
       "      <td>0</td>\n",
       "      <td>0.000000</td>\n",
       "      <td>...</td>\n",
       "      <td>0.000000</td>\n",
       "      <td>0.000000</td>\n",
       "      <td>0.000000</td>\n",
       "      <td>0.000000</td>\n",
       "      <td>0.000000</td>\n",
       "      <td>0.000000</td>\n",
       "      <td>0.000000</td>\n",
       "      <td>0.000000</td>\n",
       "      <td>1.000000</td>\n",
       "      <td>0.000000</td>\n",
       "    </tr>\n",
       "    <tr>\n",
       "      <th>3</th>\n",
       "      <td>/Users/ranit/IAC/Project/ViTO/sample_images/nd...</td>\n",
       "      <td>100X MAM9X ZStack 2a copy</td>\n",
       "      <td>nd2</td>\n",
       "      <td>0</td>\n",
       "      <td>0</td>\n",
       "      <td>3</td>\n",
       "      <td>0.078125</td>\n",
       "      <td>0.006668</td>\n",
       "      <td>128</td>\n",
       "      <td>43.944492</td>\n",
       "      <td>...</td>\n",
       "      <td>0.000061</td>\n",
       "      <td>0.000000</td>\n",
       "      <td>0.000000</td>\n",
       "      <td>0.000000</td>\n",
       "      <td>0.000000</td>\n",
       "      <td>0.000000</td>\n",
       "      <td>0.000000</td>\n",
       "      <td>0.000000</td>\n",
       "      <td>0.999939</td>\n",
       "      <td>0.000000</td>\n",
       "    </tr>\n",
       "    <tr>\n",
       "      <th>4</th>\n",
       "      <td>/Users/ranit/IAC/Project/ViTO/sample_images/nd...</td>\n",
       "      <td>100X MAM9X ZStack 2a copy</td>\n",
       "      <td>nd2</td>\n",
       "      <td>0</td>\n",
       "      <td>0</td>\n",
       "      <td>4</td>\n",
       "      <td>1.762695</td>\n",
       "      <td>0.031675</td>\n",
       "      <td>2888</td>\n",
       "      <td>73.271233</td>\n",
       "      <td>...</td>\n",
       "      <td>0.000061</td>\n",
       "      <td>0.000000</td>\n",
       "      <td>0.000000</td>\n",
       "      <td>0.000000</td>\n",
       "      <td>0.000000</td>\n",
       "      <td>0.000000</td>\n",
       "      <td>0.000000</td>\n",
       "      <td>0.000000</td>\n",
       "      <td>0.999939</td>\n",
       "      <td>0.000000</td>\n",
       "    </tr>\n",
       "    <tr>\n",
       "      <th>...</th>\n",
       "      <td>...</td>\n",
       "      <td>...</td>\n",
       "      <td>...</td>\n",
       "      <td>...</td>\n",
       "      <td>...</td>\n",
       "      <td>...</td>\n",
       "      <td>...</td>\n",
       "      <td>...</td>\n",
       "      <td>...</td>\n",
       "      <td>...</td>\n",
       "      <td>...</td>\n",
       "      <td>...</td>\n",
       "      <td>...</td>\n",
       "      <td>...</td>\n",
       "      <td>...</td>\n",
       "      <td>...</td>\n",
       "      <td>...</td>\n",
       "      <td>...</td>\n",
       "      <td>...</td>\n",
       "      <td>...</td>\n",
       "      <td>...</td>\n",
       "    </tr>\n",
       "    <tr>\n",
       "      <th>67</th>\n",
       "      <td>/Users/ranit/IAC/Project/ViTO/sample_images/nd...</td>\n",
       "      <td>100X MAM9X ZStack 2a copy</td>\n",
       "      <td>nd2</td>\n",
       "      <td>0</td>\n",
       "      <td>2</td>\n",
       "      <td>19</td>\n",
       "      <td>57873.218874</td>\n",
       "      <td>239.319482</td>\n",
       "      <td>91541000</td>\n",
       "      <td>171.259597</td>\n",
       "      <td>...</td>\n",
       "      <td>0.163574</td>\n",
       "      <td>0.108521</td>\n",
       "      <td>0.046326</td>\n",
       "      <td>0.038452</td>\n",
       "      <td>0.032959</td>\n",
       "      <td>0.041199</td>\n",
       "      <td>0.043030</td>\n",
       "      <td>0.098145</td>\n",
       "      <td>0.181152</td>\n",
       "      <td>0.246643</td>\n",
       "    </tr>\n",
       "    <tr>\n",
       "      <th>68</th>\n",
       "      <td>/Users/ranit/IAC/Project/ViTO/sample_images/nd...</td>\n",
       "      <td>100X MAM9X ZStack 2a copy</td>\n",
       "      <td>nd2</td>\n",
       "      <td>0</td>\n",
       "      <td>2</td>\n",
       "      <td>20</td>\n",
       "      <td>55139.389090</td>\n",
       "      <td>225.694919</td>\n",
       "      <td>83635526</td>\n",
       "      <td>170.260603</td>\n",
       "      <td>...</td>\n",
       "      <td>0.165527</td>\n",
       "      <td>0.108276</td>\n",
       "      <td>0.043518</td>\n",
       "      <td>0.035828</td>\n",
       "      <td>0.032288</td>\n",
       "      <td>0.045227</td>\n",
       "      <td>0.041626</td>\n",
       "      <td>0.096375</td>\n",
       "      <td>0.185303</td>\n",
       "      <td>0.246033</td>\n",
       "    </tr>\n",
       "    <tr>\n",
       "      <th>69</th>\n",
       "      <td>/Users/ranit/IAC/Project/ViTO/sample_images/nd...</td>\n",
       "      <td>100X MAM9X ZStack 2a copy</td>\n",
       "      <td>nd2</td>\n",
       "      <td>0</td>\n",
       "      <td>2</td>\n",
       "      <td>21</td>\n",
       "      <td>50287.619653</td>\n",
       "      <td>206.548745</td>\n",
       "      <td>73471416</td>\n",
       "      <td>168.695286</td>\n",
       "      <td>...</td>\n",
       "      <td>0.167908</td>\n",
       "      <td>0.109009</td>\n",
       "      <td>0.044067</td>\n",
       "      <td>0.035706</td>\n",
       "      <td>0.028992</td>\n",
       "      <td>0.040588</td>\n",
       "      <td>0.041321</td>\n",
       "      <td>0.101440</td>\n",
       "      <td>0.184387</td>\n",
       "      <td>0.246582</td>\n",
       "    </tr>\n",
       "    <tr>\n",
       "      <th>70</th>\n",
       "      <td>/Users/ranit/IAC/Project/ViTO/sample_images/nd...</td>\n",
       "      <td>100X MAM9X ZStack 2a copy</td>\n",
       "      <td>nd2</td>\n",
       "      <td>0</td>\n",
       "      <td>2</td>\n",
       "      <td>22</td>\n",
       "      <td>46084.435076</td>\n",
       "      <td>189.815755</td>\n",
       "      <td>63796964</td>\n",
       "      <td>167.345963</td>\n",
       "      <td>...</td>\n",
       "      <td>0.169678</td>\n",
       "      <td>0.109924</td>\n",
       "      <td>0.044006</td>\n",
       "      <td>0.032043</td>\n",
       "      <td>0.026245</td>\n",
       "      <td>0.038513</td>\n",
       "      <td>0.037964</td>\n",
       "      <td>0.100220</td>\n",
       "      <td>0.191101</td>\n",
       "      <td>0.250305</td>\n",
       "    </tr>\n",
       "    <tr>\n",
       "      <th>71</th>\n",
       "      <td>/Users/ranit/IAC/Project/ViTO/sample_images/nd...</td>\n",
       "      <td>100X MAM9X ZStack 2a copy</td>\n",
       "      <td>nd2</td>\n",
       "      <td>0</td>\n",
       "      <td>2</td>\n",
       "      <td>23</td>\n",
       "      <td>36706.121543</td>\n",
       "      <td>185.060129</td>\n",
       "      <td>60742704</td>\n",
       "      <td>166.530628</td>\n",
       "      <td>...</td>\n",
       "      <td>0.160767</td>\n",
       "      <td>0.111694</td>\n",
       "      <td>0.043823</td>\n",
       "      <td>0.035828</td>\n",
       "      <td>0.032104</td>\n",
       "      <td>0.040649</td>\n",
       "      <td>0.043762</td>\n",
       "      <td>0.107239</td>\n",
       "      <td>0.174133</td>\n",
       "      <td>0.250000</td>\n",
       "    </tr>\n",
       "  </tbody>\n",
       "</table>\n",
       "<p>72 rows × 41 columns</p>\n",
       "</div>"
      ],
      "text/plain": [
       "                                            file_path  \\\n",
       "0   /Users/ranit/IAC/Project/ViTO/sample_images/nd...   \n",
       "1   /Users/ranit/IAC/Project/ViTO/sample_images/nd...   \n",
       "2   /Users/ranit/IAC/Project/ViTO/sample_images/nd...   \n",
       "3   /Users/ranit/IAC/Project/ViTO/sample_images/nd...   \n",
       "4   /Users/ranit/IAC/Project/ViTO/sample_images/nd...   \n",
       "..                                                ...   \n",
       "67  /Users/ranit/IAC/Project/ViTO/sample_images/nd...   \n",
       "68  /Users/ranit/IAC/Project/ViTO/sample_images/nd...   \n",
       "69  /Users/ranit/IAC/Project/ViTO/sample_images/nd...   \n",
       "70  /Users/ranit/IAC/Project/ViTO/sample_images/nd...   \n",
       "71  /Users/ranit/IAC/Project/ViTO/sample_images/nd...   \n",
       "\n",
       "                   image_name extension  T  C   Z     laplacian   tenengrad  \\\n",
       "0   100X MAM9X ZStack 2a copy       nd2  0  0   0      0.000000    0.000000   \n",
       "1   100X MAM9X ZStack 2a copy       nd2  0  0   1      0.000000    0.000000   \n",
       "2   100X MAM9X ZStack 2a copy       nd2  0  0   2      0.000000    0.000000   \n",
       "3   100X MAM9X ZStack 2a copy       nd2  0  0   3      0.078125    0.006668   \n",
       "4   100X MAM9X ZStack 2a copy       nd2  0  0   4      1.762695    0.031675   \n",
       "..                        ...       ... .. ..  ..           ...         ...   \n",
       "67  100X MAM9X ZStack 2a copy       nd2  0  2  19  57873.218874  239.319482   \n",
       "68  100X MAM9X ZStack 2a copy       nd2  0  2  20  55139.389090  225.694919   \n",
       "69  100X MAM9X ZStack 2a copy       nd2  0  2  21  50287.619653  206.548745   \n",
       "70  100X MAM9X ZStack 2a copy       nd2  0  2  22  46084.435076  189.815755   \n",
       "71  100X MAM9X ZStack 2a copy       nd2  0  2  23  36706.121543  185.060129   \n",
       "\n",
       "    brenners_gradient  fourier_magnitude  ...  lbp_bin_0  lbp_bin_1  \\\n",
       "0                   0           0.000000  ...   0.000000   0.000000   \n",
       "1                   0           0.000000  ...   0.000000   0.000000   \n",
       "2                   0           0.000000  ...   0.000000   0.000000   \n",
       "3                 128          43.944492  ...   0.000061   0.000000   \n",
       "4                2888          73.271233  ...   0.000061   0.000000   \n",
       "..                ...                ...  ...        ...        ...   \n",
       "67           91541000         171.259597  ...   0.163574   0.108521   \n",
       "68           83635526         170.260603  ...   0.165527   0.108276   \n",
       "69           73471416         168.695286  ...   0.167908   0.109009   \n",
       "70           63796964         167.345963  ...   0.169678   0.109924   \n",
       "71           60742704         166.530628  ...   0.160767   0.111694   \n",
       "\n",
       "    lbp_bin_2  lbp_bin_3  lbp_bin_4  lbp_bin_5  lbp_bin_6  lbp_bin_7  \\\n",
       "0    0.000000   0.000000   0.000000   0.000000   0.000000   0.000000   \n",
       "1    0.000000   0.000000   0.000000   0.000000   0.000000   0.000000   \n",
       "2    0.000000   0.000000   0.000000   0.000000   0.000000   0.000000   \n",
       "3    0.000000   0.000000   0.000000   0.000000   0.000000   0.000000   \n",
       "4    0.000000   0.000000   0.000000   0.000000   0.000000   0.000000   \n",
       "..        ...        ...        ...        ...        ...        ...   \n",
       "67   0.046326   0.038452   0.032959   0.041199   0.043030   0.098145   \n",
       "68   0.043518   0.035828   0.032288   0.045227   0.041626   0.096375   \n",
       "69   0.044067   0.035706   0.028992   0.040588   0.041321   0.101440   \n",
       "70   0.044006   0.032043   0.026245   0.038513   0.037964   0.100220   \n",
       "71   0.043823   0.035828   0.032104   0.040649   0.043762   0.107239   \n",
       "\n",
       "    lbp_bin_8  lbp_bin_9  \n",
       "0    1.000000   0.000000  \n",
       "1    1.000000   0.000000  \n",
       "2    1.000000   0.000000  \n",
       "3    0.999939   0.000000  \n",
       "4    0.999939   0.000000  \n",
       "..        ...        ...  \n",
       "67   0.181152   0.246643  \n",
       "68   0.185303   0.246033  \n",
       "69   0.184387   0.246582  \n",
       "70   0.191101   0.250305  \n",
       "71   0.174133   0.250000  \n",
       "\n",
       "[72 rows x 41 columns]"
      ]
     },
     "execution_count": 8,
     "metadata": {},
     "output_type": "execute_result"
    }
   ],
   "source": [
    "data_df = pd.read_csv(f\"{PATH}/nd2_temp/nd2_temp_features.csv\")\n",
    "data_df"
   ]
  },
  {
   "cell_type": "code",
   "execution_count": 22,
   "metadata": {},
   "outputs": [
    {
     "data": {
      "text/plain": [
       "[<matplotlib.lines.Line2D at 0x32c9971d0>]"
      ]
     },
     "execution_count": 22,
     "metadata": {},
     "output_type": "execute_result"
    },
    {
     "data": {
      "image/png": "[encoded data removed]",
      "text/plain": [
       "<Figure size 640x480 with 1 Axes>"
      ]
     },
     "metadata": {},
     "output_type": "display_data"
    }
   ],
   "source": [
    "plt.plot(range(len(data_df[data_df.C==0])), data_df[data_df.C==0].laplacian)\n",
    "plt.plot(range(len(data_df[data_df.C==1])), data_df[data_df.C==1].laplacian)\n",
    "plt.plot(range(len(data_df[data_df.C==2])), data_df[data_df.C==2].laplacian)"
   ]
  },
  {
   "cell_type": "code",
   "execution_count": 35,
   "metadata": {},
   "outputs": [
    {
     "name": "stderr",
     "output_type": "stream",
     "text": [
      "/Users/ranit/IAC/Project/ViTO/BIA-QC/envs/lib/python3.11/site-packages/pandas/core/arraylike.py:399: RuntimeWarning: divide by zero encountered in log2\n",
      "  result = getattr(ufunc, method)(*inputs, **kwargs)\n"
     ]
    },
    {
     "data": {
      "text/plain": [
       "<matplotlib.legend.Legend at 0x32cce1950>"
      ]
     },
     "execution_count": 35,
     "metadata": {},
     "output_type": "execute_result"
    },
    {
     "data": {
      "image/png": "[encoded data removed]",
      "text/plain": [
       "<Figure size 640x480 with 1 Axes>"
      ]
     },
     "metadata": {},
     "output_type": "display_data"
    }
   ],
   "source": [
    "plt.plot(range(len(data_df[data_df.C==0])), np.log2(data_df[data_df.C==0].laplacian), label=\"Channel 1\")\n",
    "plt.plot(range(len(data_df[data_df.C==1])), np.log2(data_df[data_df.C==1].laplacian), label=\"Channel 2\")\n",
    "plt.plot(range(len(data_df[data_df.C==2])), np.log2(data_df[data_df.C==2].laplacian), label=\"Channel 3\")\n",
    "\n",
    "random_image_laplacian = []\n",
    "for i in range(24):\n",
    "    image = 4095*np.random.randint(2, size=(64,64), dtype=np.uint8)\n",
    "    random_image_laplacian.append(cv.Laplacian(image, cv.CV_64F).var())\n",
    "\n",
    "plt.plot(range(len(data_df[data_df.C==2])), np.log2(random_image_laplacian), label=\"Random\")\n",
    "\n",
    "plt.legend()"
   ]
  },
  {
   "cell_type": "code",
   "execution_count": 37,
   "metadata": {},
   "outputs": [
    {
     "data": {
      "text/plain": [
       "array([26.33328936, 26.31783718, 26.36902373, 26.34288941, 26.28028153,\n",
       "       26.38225517, 26.33983997, 26.33063226, 26.33620704, 26.33914486,\n",
       "       26.29103325, 26.30350243, 26.34995678, 26.33531378, 26.34912896,\n",
       "       26.32101138, 26.33788579, 26.27607373, 26.29785927, 26.38035792,\n",
       "       26.31451441, 26.26760872, 26.34483872, 26.32761593])"
      ]
     },
     "execution_count": 37,
     "metadata": {},
     "output_type": "execute_result"
    }
   ],
   "source": [
    "np.log2(random_image_laplacian)"
   ]
  },
  {
   "cell_type": "code",
   "execution_count": 15,
   "metadata": {},
   "outputs": [
    {
     "data": {
      "text/plain": [
       "0.2981687963372945"
      ]
     },
     "execution_count": 15,
     "metadata": {},
     "output_type": "execute_result"
    }
   ],
   "source": [
    "800000*100/((4095**2)*16)"
   ]
  },
  {
   "cell_type": "code",
   "execution_count": 31,
   "metadata": {},
   "outputs": [
    {
     "name": "stdout",
     "output_type": "stream",
     "text": [
      "4.96872615814209\n"
     ]
    }
   ],
   "source": [
    "image = np.random.randint(2, size=(64,64), dtype=np.uint8)\n",
    "# image = cv.GaussianBlur(image, (5,5), 0)\n",
    "\n",
    "print(cv.Laplacian(image, cv.CV_64F).var())"
   ]
  },
  {
   "cell_type": "code",
   "execution_count": 38,
   "metadata": {},
   "outputs": [
    {
     "data": {
      "text/plain": [
       "[<matplotlib.lines.Line2D at 0x32ce6a1d0>]"
      ]
     },
     "execution_count": 38,
     "metadata": {},
     "output_type": "execute_result"
    },
    {
     "data": {
      "image/png": "[encoded data removed]",
      "text/plain": [
       "<Figure size 640x480 with 1 Axes>"
      ]
     },
     "metadata": {},
     "output_type": "display_data"
    }
   ],
   "source": [
    "plt.plot(range(len(data_df[data_df.C==0])), data_df[data_df.C==0].tenengrad)\n",
    "plt.plot(range(len(data_df[data_df.C==1])), data_df[data_df.C==1].tenengrad)\n",
    "plt.plot(range(len(data_df[data_df.C==2])), data_df[data_df.C==2].tenengrad)"
   ]
  },
  {
   "cell_type": "markdown",
   "metadata": {},
   "source": [
    "## Tenengrad"
   ]
  },
  {
   "cell_type": "code",
   "execution_count": 3,
   "metadata": {},
   "outputs": [
    {
     "name": "stdout",
     "output_type": "stream",
     "text": [
      "[[-4]]\n",
      "[[0]]\n"
     ]
    }
   ],
   "source": [
    "# horizontal edge\n",
    "\n",
    "im = np.array([[0, 0, 1],\n",
    "                [0, 0, 1],\n",
    "                [0, 0, 1]])\n",
    "\n",
    "sobel_hor = np.array([[-1, 0, 1],\n",
    "                        [-2, 0, 2],\n",
    "                        [-1, 0, 1]])\n",
    "\n",
    "sobel_ver = np.array([[-1, -2, 1],\n",
    "                        [0, 0, 0],\n",
    "                        [1, 2, 1]])\n",
    "\n",
    "print(convolve2d(im, sobel_hor, mode=\"valid\"))\n",
    "print(convolve2d(im, sobel_ver, mode=\"valid\"))"
   ]
  },
  {
   "cell_type": "code",
   "execution_count": 8,
   "metadata": {},
   "outputs": [
    {
     "name": "stdout",
     "output_type": "stream",
     "text": [
      "0 4 4.0\n"
     ]
    }
   ],
   "source": [
    "# vertical edge\n",
    "\n",
    "im = np.array([[1, 1, 1],\n",
    "                [0, 0, 0],\n",
    "                [0, 0, 0]])\n",
    "\n",
    "sobel_hor = np.array([[-1, 0, 1],\n",
    "                        [-2, 0, 2],\n",
    "                        [-1, 0, 1]])\n",
    "\n",
    "sobel_ver = np.array([[-1, -2, 1],\n",
    "                        [0, 0, 0],\n",
    "                        [1, 2, 1]])\n",
    "\n",
    "gx = convolve2d(im, sobel_hor, mode=\"valid\")[0][0]\n",
    "gy = convolve2d(im, sobel_ver, mode=\"valid\")[0][0]\n",
    "g = np.sqrt(((gx**2)+(gy**2)))\n",
    "print(gx, gy, g)"
   ]
  },
  {
   "cell_type": "code",
   "execution_count": 9,
   "metadata": {},
   "outputs": [
    {
     "name": "stdout",
     "output_type": "stream",
     "text": [
      "-3 3 4.242640687119285\n"
     ]
    }
   ],
   "source": [
    "# corner\n",
    "\n",
    "im = np.array([[1, 1, 1],\n",
    "                [0, 1, 1],\n",
    "                [0, 0, 1]])\n",
    "\n",
    "sobel_hor = np.array([[-1, 0, 1],\n",
    "                        [-2, 0, 2],\n",
    "                        [-1, 0, 1]])\n",
    "\n",
    "sobel_ver = np.array([[-1, -2, 1],\n",
    "                        [0, 0, 0],\n",
    "                        [1, 2, 1]])\n",
    "\n",
    "gx = convolve2d(im, sobel_hor, mode=\"valid\")[0][0]\n",
    "gy = convolve2d(im, sobel_ver, mode=\"valid\")[0][0]\n",
    "g = np.sqrt(((gx**2)+(gy**2)))\n",
    "print(gx, gy, g)\n"
   ]
  },
  {
   "cell_type": "code",
   "execution_count": 13,
   "metadata": {},
   "outputs": [
    {
     "name": "stdout",
     "output_type": "stream",
     "text": [
      "-765 765 1081.8733752154178\n"
     ]
    }
   ],
   "source": [
    "# corner\n",
    "\n",
    "im = np.array([[0, 1, 1],\n",
    "                [0, 0, 1],\n",
    "                [0, 0, 0]])\n",
    "\n",
    "sobel_hor = np.array([[-1, 0, 1],\n",
    "                        [-2, 0, 2],\n",
    "                        [-1, 0, 1]])\n",
    "\n",
    "sobel_ver = np.array([[-1, -2, 1],\n",
    "                        [0, 0, 0],\n",
    "                        [1, 2, 1]])\n",
    "\n",
    "gx = convolve2d(im, sobel_hor, mode=\"valid\")[0][0]\n",
    "gy = convolve2d(im, sobel_ver, mode=\"valid\")[0][0]\n",
    "g = np.sqrt(((gx**2)+(gy**2)))\n",
    "print(gx, gy, g)"
   ]
  },
  {
   "cell_type": "code",
   "execution_count": 11,
   "metadata": {},
   "outputs": [
    {
     "name": "stdout",
     "output_type": "stream",
     "text": [
      "-1 1 1.4142135623730951\n"
     ]
    }
   ],
   "source": [
    "# corner\n",
    "\n",
    "im = np.array([[1, 0, 1],\n",
    "                [0, 1, 0],\n",
    "                [0, 0, 1]])\n",
    "\n",
    "sobel_hor = np.array([[-1, 0, 1],\n",
    "                        [-2, 0, 2],\n",
    "                        [-1, 0, 1]])\n",
    "\n",
    "sobel_ver = np.array([[-1, -2, 1],\n",
    "                        [0, 0, 0],\n",
    "                        [1, 2, 1]])\n",
    "\n",
    "gx = convolve2d(im, sobel_hor, mode=\"valid\")[0][0]\n",
    "gy = convolve2d(im, sobel_ver, mode=\"valid\")[0][0]\n",
    "g = np.sqrt(((gx**2)+(gy**2)))\n",
    "print(gx, gy, g)"
   ]
  },
  {
   "cell_type": "code",
   "execution_count": null,
   "metadata": {},
   "outputs": [],
   "source": []
  }
 ],
 "metadata": {
  "kernelspec": {
   "display_name": "Python 3",
   "language": "python",
   "name": "python3"
  },
  "language_info": {
   "codemirror_mode": {
    "name": "ipython",
    "version": 3
   },
   "file_extension": ".py",
   "mimetype": "text/x-python",
   "name": "python",
   "nbconvert_exporter": "python",
   "pygments_lexer": "ipython3",
   "version": "3.11.9"
  }
 },
 "nbformat": 4,
 "nbformat_minor": 2
}
